{
  "nbformat": 4,
  "nbformat_minor": 0,
  "metadata": {
    "colab": {
      "name": "main.ipynb",
      "provenance": [],
      "collapsed_sections": [],
      "toc_visible": true,
      "include_colab_link": true
    },
    "kernelspec": {
      "name": "python3",
      "display_name": "Python 3"
    }
  },
  "cells": [
    {
      "cell_type": "markdown",
      "metadata": {
        "id": "view-in-github",
        "colab_type": "text"
      },
      "source": [
        "<a href=\"https://colab.research.google.com/github/thisisindrajit/Using-Deep-CNN-to-enhance-low-res-photos-to-match-the-quality-of-DSLR-cameras/blob/main/main.ipynb\" target=\"_parent\"><img src=\"https://colab.research.google.com/assets/colab-badge.svg\" alt=\"Open In Colab\"/></a>"
      ]
    },
    {
      "cell_type": "markdown",
      "metadata": {
        "id": "kzTPgTQk0oBm"
      },
      "source": [
        "# References and citation\r\n",
        "\r\n",
        "This notebook contains references for code from this repository: https://github.com/aiff22/DPED.git\r\n",
        "\r\n",
        "**This project is for educational purposes only.**\r\n",
        "\r\n",
        "<br>\r\n",
        "<hr>\r\n",
        "<br>\r\n",
        "\r\n",
        "Citation:\r\n",
        "\r\n",
        "<pre>\r\n",
        "@inproceedings{ignatov2017dslr,\r\n",
        "  title={DSLR-Quality Photos on Mobile Devices with Deep Convolutional Networks},\r\n",
        "  author={Ignatov, Andrey and Kobyshev, Nikolay and Timofte, Radu and Vanhoey, Kenneth and Van Gool, Luc},\r\n",
        "  booktitle={Proceedings of the IEEE International Conference on Computer Vision},\r\n",
        "  pages={3277--3285},\r\n",
        "  year={2017}\r\n",
        "}\r\n",
        "</pre>\r\n",
        "\r\n"
      ]
    },
    {
      "cell_type": "markdown",
      "metadata": {
        "id": "yladDaJktiLA"
      },
      "source": [
        "# Imports"
      ]
    },
    {
      "cell_type": "code",
      "metadata": {
        "colab": {
          "base_uri": "https://localhost:8080/"
        },
        "id": "MJJ2_urdX5Zr",
        "outputId": "4383e5b4-d94e-4ee2-f125-df058498622f"
      },
      "source": [
        "from google.colab import drive\r\n",
        "drive.mount('/content/drive')"
      ],
      "execution_count": null,
      "outputs": [
        {
          "output_type": "stream",
          "text": [
            "Mounted at /content/drive\n"
          ],
          "name": "stdout"
        }
      ]
    },
    {
      "cell_type": "code",
      "metadata": {
        "colab": {
          "base_uri": "https://localhost:8080/",
          "height": 363
        },
        "id": "mZKJju9WWcT4",
        "outputId": "c9646f69-c5cf-4a2f-d9ac-0929935b68cb"
      },
      "source": [
        "import numpy as np\r\n",
        "import imageio\r\n",
        "import PIL #pillow\r\n",
        "import tensorflow as tf\r\n",
        "from tensorflow import keras\r\n",
        "from __future__ import print_function\r\n",
        "import scipy\r\n",
        "import os\r\n",
        "import sys\r\n",
        "\r\n",
        "#tensorflow version\r\n",
        "print(tf.__version__)"
      ],
      "execution_count": null,
      "outputs": [
        {
          "output_type": "error",
          "ename": "ModuleNotFoundError",
          "evalue": "ignored",
          "traceback": [
            "\u001b[0;31m---------------------------------------------------------------------------\u001b[0m",
            "\u001b[0;31mModuleNotFoundError\u001b[0m                       Traceback (most recent call last)",
            "\u001b[0;32m<ipython-input-56-8f2cf5f91f15>\u001b[0m in \u001b[0;36m<module>\u001b[0;34m()\u001b[0m\n\u001b[1;32m      8\u001b[0m \u001b[0;32mimport\u001b[0m \u001b[0mos\u001b[0m\u001b[0;34m\u001b[0m\u001b[0;34m\u001b[0m\u001b[0m\n\u001b[1;32m      9\u001b[0m \u001b[0;32mimport\u001b[0m \u001b[0msys\u001b[0m\u001b[0;34m\u001b[0m\u001b[0;34m\u001b[0m\u001b[0m\n\u001b[0;32m---> 10\u001b[0;31m \u001b[0;32mimport\u001b[0m \u001b[0mwget\u001b[0m\u001b[0;34m\u001b[0m\u001b[0;34m\u001b[0m\u001b[0m\n\u001b[0m\u001b[1;32m     11\u001b[0m \u001b[0;34m\u001b[0m\u001b[0m\n\u001b[1;32m     12\u001b[0m \u001b[0;31m#tensorflow version\u001b[0m\u001b[0;34m\u001b[0m\u001b[0;34m\u001b[0m\u001b[0;34m\u001b[0m\u001b[0m\n",
            "\u001b[0;31mModuleNotFoundError\u001b[0m: No module named 'wget'",
            "",
            "\u001b[0;31m---------------------------------------------------------------------------\u001b[0;32m\nNOTE: If your import is failing due to a missing package, you can\nmanually install dependencies using either !pip or !apt.\n\nTo view examples of installing some common dependencies, click the\n\"Open Examples\" button below.\n\u001b[0;31m---------------------------------------------------------------------------\u001b[0m\n"
          ]
        }
      ]
    },
    {
      "cell_type": "markdown",
      "metadata": {
        "id": "t57cD3autEfO"
      },
      "source": [
        "# Loading the dataset"
      ]
    },
    {
      "cell_type": "code",
      "metadata": {
        "colab": {
          "base_uri": "https://localhost:8080/"
        },
        "id": "s6zkVsAmtOly",
        "outputId": "8106b2de-c376-4c6e-de49-6f229b56306f"
      },
      "source": [
        "#helper functions to load batch training data and test data\r\n",
        "\r\n",
        "#function to load test data\r\n",
        "def load_test_data(phone, dped_dir, IMAGE_SIZE):\r\n",
        "\r\n",
        "    #print(phone + \" \" + dped_dir + \" \" + str(IMAGE_SIZE))\r\n",
        "    \r\n",
        "    test_directory_phone = dped_dir + str(phone) + '/test_data/patches/' + str(phone) + '/'\r\n",
        "    test_directory_dslr = dped_dir + str(phone) + '/test_data/patches/canon/'\r\n",
        "\r\n",
        "    #finding no of test images\r\n",
        "    NUM_TEST_IMAGES = len([name for name in os.listdir(test_directory_phone)\r\n",
        "                           if os.path.isfile(os.path.join(test_directory_phone, name))])\r\n",
        "    \r\n",
        "    #print(NUM_TEST_IMAGES) #201 \r\n",
        "    #print(IMAGE_SIZE) #30000\r\n",
        "\r\n",
        "    #empty arrays with no of rows = number of test images and no of columns = 100*100*3\r\n",
        "    test_data = np.zeros((NUM_TEST_IMAGES, IMAGE_SIZE))\r\n",
        "    test_answ = np.zeros((NUM_TEST_IMAGES, IMAGE_SIZE))\r\n",
        "\r\n",
        "    for i in range(0,NUM_TEST_IMAGES):\r\n",
        "        \r\n",
        "        I = np.asarray(imageio.imread(test_directory_phone + str(i) + '.jpg'))\r\n",
        "        I = np.float16(np.reshape(I, [1, IMAGE_SIZE]))/255\r\n",
        "        test_data[i, :] = I\r\n",
        "        \r\n",
        "        I = np.asarray(imageio.imread(test_directory_dslr + str(i) + '.jpg'))\r\n",
        "        I = np.float16(np.reshape(I, [1, IMAGE_SIZE]))/255\r\n",
        "        test_answ[i, :] = I\r\n",
        "\r\n",
        "        if i % 100 == 0:\r\n",
        "            print(str(round(i * 100 / NUM_TEST_IMAGES)) + \"% done\")\r\n",
        "\r\n",
        "    return test_data, test_answ\r\n",
        "\r\n",
        "#function to load training data\r\n",
        "def load_batch(phone, dped_dir, TRAIN_SIZE, IMAGE_SIZE):\r\n",
        "\r\n",
        "    #print(phone + \" \" + dped_dir + \" \" + IMAGE_SIZE)\r\n",
        "\r\n",
        "    train_directory_phone = dped_dir + str(phone) + '/training_data/' + str(phone) + '/'\r\n",
        "    train_directory_dslr = dped_dir + str(phone) + '/training_data/canon/'\r\n",
        "\r\n",
        "    #finding no of training images\r\n",
        "    NUM_TRAINING_IMAGES = len([name for name in os.listdir(train_directory_phone)\r\n",
        "                               if os.path.isfile(os.path.join(train_directory_phone, name))])\r\n",
        "\r\n",
        "    # if TRAIN_SIZE == -1 then load all images\r\n",
        "\r\n",
        "    if TRAIN_SIZE == -1:\r\n",
        "        TRAIN_SIZE = NUM_TRAINING_IMAGES\r\n",
        "        #here np.arange returns an array with values from 0 to TRAIN_SIZE-1 -> [0,1,2,3.....]\r\n",
        "        TRAIN_IMAGES = np.arange(0, TRAIN_SIZE)\r\n",
        "    else:\r\n",
        "        #randomly selecting TRAIN_SIZE no of images from total no of training images\r\n",
        "        TRAIN_IMAGES = np.random.choice(np.arange(0, NUM_TRAINING_IMAGES), TRAIN_SIZE, replace=False)\r\n",
        "\r\n",
        "    #empty arrays with no of rows = number of training images and no of columns = 100*100*3\r\n",
        "    train_data = np.zeros((TRAIN_SIZE, IMAGE_SIZE))\r\n",
        "    train_answ = np.zeros((TRAIN_SIZE, IMAGE_SIZE))\r\n",
        "\r\n",
        "    i = 0\r\n",
        "\r\n",
        "    for img in TRAIN_IMAGES:\r\n",
        "\r\n",
        "        I = np.asarray(imageio.imread(train_directory_phone + str(img) + '.jpg'))\r\n",
        "        I = np.float16(np.reshape(I, [1, IMAGE_SIZE])) / 255\r\n",
        "        train_data[i, :] = I\r\n",
        "\r\n",
        "        I = np.asarray(imageio.imread(train_directory_dslr + str(img) + '.jpg'))\r\n",
        "        I = np.float16(np.reshape(I, [1, IMAGE_SIZE])) / 255\r\n",
        "        train_answ[i, :] = I\r\n",
        "\r\n",
        "        i += 1\r\n",
        "        if i % 100 == 0:\r\n",
        "            print(str(round(i * 100 / TRAIN_SIZE)) + \"% done\")\r\n",
        "\r\n",
        "    return train_data, train_answ\r\n",
        "\r\n",
        "# test_data, test_answ = load_test_data(\"sony\", \"dped/\", 100*100*3)\r\n",
        "\r\n",
        "test_data, test_ans = load_test_data(\"sony\", \"drive/MyDrive/Innovation Practices Lab/dped_small/\", 100*100*3)\r\n",
        "print(\"Test ans\")\r\n",
        "print(test_ans)\r\n",
        "\r\n",
        "train_data, train_ans = load_batch(\"iphone\", \"drive/MyDrive/Innovation Practices Lab/dped_small/\", -1, 100*100*3)\r\n",
        "print(\"Training ans\")\r\n",
        "print(train_ans)"
      ],
      "execution_count": null,
      "outputs": [
        {
          "output_type": "stream",
          "text": [
            "0% done\n",
            "50% done\n",
            "100% done\n",
            "Test ans\n",
            "[[0.52148438 0.46655273 0.3215332  ... 0.49023438 0.58837891 0.57666016]\n",
            " [0.49414062 0.12939453 0.1607666  ... 0.91357422 0.78808594 0.72949219]\n",
            " [0.3293457  0.26269531 0.1529541  ... 0.37255859 0.32543945 0.27832031]\n",
            " ...\n",
            " [0.41967773 0.27832031 0.13720703 ... 0.20397949 0.08233643 0.00392151]\n",
            " [0.28637695 0.25488281 0.24316406 ... 0.46264648 0.46264648 0.45483398]\n",
            " [0.58056641 0.54101562 0.50585938 ... 0.07452393 0.11767578 0.10198975]]\n",
            "50% done\n",
            "100% done\n",
            "Training ans\n",
            "[[0.36474609 0.42749023 0.52539062 ... 0.41967773 0.45092773 0.53320312]\n",
            " [0.64306641 0.78417969 0.83154297 ... 0.01960754 0.05490112 0.05099487]\n",
            " [0.76855469 0.76464844 0.75683594 ... 0.94921875 0.94921875 0.95703125]\n",
            " ...\n",
            " [0.24316406 0.39990234 0.12548828 ... 0.27832031 0.25097656 0.21179199]\n",
            " [0.85888672 0.90185547 0.91748047 ... 0.48632812 0.67822266 0.80761719]\n",
            " [0.27441406 0.27832031 0.22351074 ... 0.51367188 0.55664062 0.58056641]]\n"
          ],
          "name": "stdout"
        }
      ]
    },
    {
      "cell_type": "markdown",
      "metadata": {
        "id": "gpF6OwXfgiMR"
      },
      "source": [
        "# Models"
      ]
    },
    {
      "cell_type": "code",
      "metadata": {
        "id": "IU4Ya1uWgsnC"
      },
      "source": [
        "#helper function to define the weight variable\r\n",
        "def weight(shape, name):\r\n",
        "\r\n",
        "  weight_var = tf.compat.v1.truncated_normal(shape, stddev=0.01)  \r\n",
        "  return tf.Variable(weight_var, name=name)\r\n",
        "\r\n",
        "#helper function to define the bias variable\r\n",
        "def bias(shape, name):\r\n",
        "\r\n",
        "  bias_var = tf.constant(0.01, shape=shape)\r\n",
        "  return tf.Variable(bias_var, name=name)\r\n",
        "\r\n",
        "#helper function to define a 2d convolutional layer\r\n",
        "def conv2d(x, W):\r\n",
        "  # tf.nn.conv2d computes a 2-D convolution given a input and 4-D tensor having various values related to the kernel/filter. \r\n",
        "  # x is the input, W is the parameter with shape [filter_height, filter_width, in_channels, out_channels]\r\n",
        "  # padding='SAME' means the output must have the same height/width dimension as the input.\r\n",
        "  return tf.nn.conv2d(x, W, strides=[1, 1, 1, 1], padding='SAME')\r\n",
        "\r\n",
        "#helper function to perform Batch Normalization\r\n",
        "#reference for batch normalization - https://towardsdatascience.com/batch-normalization-explained-algorithm-breakdown-23d2794511c\r\n",
        "def batch_normalization(convnet):\r\n",
        "\r\n",
        "  #here i.value must be present for sure ####VERY IMPORTANT\r\n",
        "  #batch, rows, cols, channels = [i.value for i in convnet.get_shape()]\r\n",
        "\r\n",
        "  batch, rows, cols, channels = [i for i in convnet.get_shape()]\r\n",
        "  var_shape = [channels]\r\n",
        "\r\n",
        "  mean, variance = tf.compat.v1.nn.moments(convnet, [1,2], keepdims=True)\r\n",
        "  shift = tf.Variable(tf.zeros(var_shape))\r\n",
        "  scale = tf.Variable(tf.ones(var_shape))\r\n",
        "\r\n",
        "  epsilon = 1e-3\r\n",
        "  normalized = (convnet-mean)/(variance + epsilon)**(.5)\r\n",
        "\r\n",
        "  return scale * normalized + shift\r\n",
        "\r\n",
        "\r\n",
        "#helper function to create a convolutional layer\r\n",
        "def convolutionallayer(net, num_filters, filter_size, strides, batch_nn=True):\r\n",
        "    \r\n",
        "  weights_init = initialize_vars(net, num_filters, filter_size)\r\n",
        "  strides_shape = [1, strides, strides, 1] #NHWC format - N, Height, Width, Channels. For the most common case of the same horizontal and vertical strides, strides = [1, stride, stride, 1].\r\n",
        "  bias = tf.Variable(tf.constant(0.01, shape=[num_filters]))\r\n",
        "\r\n",
        "  #here weights_init is nothing but the parameters for filter with shape [filter_height, filter_width, in_channels, out_channels]\r\n",
        "  net = tf.nn.conv2d(net, weights_init, strides_shape, padding='SAME') + bias   \r\n",
        "  net = leakyReLU(net)\r\n",
        "\r\n",
        "  #if batch normalization needs to be done\r\n",
        "  if batch_nn:\r\n",
        "       net = batch_normalization(net)\r\n",
        "\r\n",
        "  return net\r\n",
        "\r\n",
        "#helper function to initialize variables before creating a convolutional layer\r\n",
        "def initialize_vars(net, out_channels, filter_size, transpose=False):\r\n",
        "\r\n",
        "  #here i.value must be present for sure ####VERY IMPORTANT\r\n",
        "  #_, rows, cols, in_channels = [i.value for i in net.get_shape()] \r\n",
        "\r\n",
        "  _, rows, cols, in_channels = [i for i in net.get_shape()]\r\n",
        "\r\n",
        "  if not transpose:\r\n",
        "    weights_shape = [filter_size, filter_size, in_channels, out_channels]\r\n",
        "  else:\r\n",
        "    weights_shape = [filter_size, filter_size, out_channels, in_channels]\r\n",
        "\r\n",
        "  #check this out\r\n",
        "  weights_init = tf.Variable(tf.compat.v1.truncated_normal(weights_shape, stddev=0.01, seed=1), dtype=tf.float32)\r\n",
        "  \r\n",
        "  return weights_init\r\n",
        "\r\n",
        "#Leaky ReLU function\r\n",
        "def leakyReLU(x, alpha = 0.2):\r\n",
        "  return tf.maximum(alpha * x, x)\r\n",
        "\r\n",
        "#------------------------------------------------------------------\r\n",
        "#main models:\r\n",
        "\r\n",
        "#generator network\r\n",
        "def residualnetwork(input_image):\r\n",
        "\r\n",
        "  #this is used to store all the variables related to generator as a whole by tensorflow\r\n",
        "  with tf.compat.v1.variable_scope(\"generator\"):\r\n",
        "\r\n",
        "    #first layer (layer which has input image as the layer input)\r\n",
        "    W1 = weight([9,9,3,64], name=\"W1\")\r\n",
        "    b1 = bias([64], name=\"b1\")\r\n",
        "\r\n",
        "    #ReLU activation of sum of conv2d neural network weight outputs and bias\r\n",
        "    c1 = tf.keras.activations.relu(conv2d(input_image, W1) + b1)\r\n",
        "\r\n",
        "    #residual block 1\r\n",
        "\r\n",
        "    W2 = weight([3, 3, 64, 64], name=\"W2\")\r\n",
        "    b2 = bias([64], name=\"b2\")\r\n",
        "\r\n",
        "    c2 = tf.keras.activations.relu(batch_normalization(conv2d(c1, W2) + b2))\r\n",
        "\r\n",
        "    W3 = weight([3, 3, 64, 64], name=\"W3\")\r\n",
        "    b3 = bias([64], name=\"b3\");\r\n",
        "    \r\n",
        "    c3 = tf.keras.activations.relu(batch_normalization(conv2d(c2, W3) + b3)) + c1 #here we add c1 because it is a residual neural network\r\n",
        "\r\n",
        "    #residual block 2\r\n",
        "\r\n",
        "    W4 = weight([3, 3, 64, 64], name=\"W4\")\r\n",
        "    b4 = bias([64], name=\"b4\")\r\n",
        "\r\n",
        "    c4 = tf.keras.activations.relu(batch_normalization(conv2d(c3, W4) + b4))\r\n",
        "\r\n",
        "    W5 = weight([3, 3, 64, 64], name=\"W5\")\r\n",
        "    b5 = bias([64], name=\"b5\");\r\n",
        "\r\n",
        "    c5 = tf.keras.activations.relu(batch_normalization(conv2d(c4, W5) + b5)) + c3\r\n",
        "\r\n",
        "    #residual block 3\r\n",
        "\r\n",
        "    W6 = weight([3, 3, 64, 64], name=\"W6\")\r\n",
        "    b6 = bias([64], name=\"b6\")\r\n",
        "\r\n",
        "    c6 = tf.keras.activations.relu(batch_normalization(conv2d(c5, W6) + b6))\r\n",
        "\r\n",
        "    W7 = weight([3, 3, 64, 64], name=\"W7\")\r\n",
        "    b7 = bias([64], name=\"b7\");\r\n",
        "    \r\n",
        "    c7 = tf.keras.activations.relu(batch_normalization(conv2d(c6, W7) + b7)) + c5\r\n",
        "\r\n",
        "    # residual 4\r\n",
        "\r\n",
        "    W8 = weight([3, 3, 64, 64], name=\"W8\")\r\n",
        "    b8 = bias([64], name=\"b8\")\r\n",
        "\r\n",
        "    c8 = tf.keras.activations.relu(batch_normalization(conv2d(c7, W8) + b8))\r\n",
        "\r\n",
        "    W9 = weight([3, 3, 64, 64], name=\"W9\")\r\n",
        "    b9 = bias([64], name=\"b9\")\r\n",
        "\r\n",
        "    c9 = tf.keras.activations.relu(batch_normalization(conv2d(c8, W9) + b9)) + c7\r\n",
        "\r\n",
        "    #Additional convolutional layers\r\n",
        "\r\n",
        "    W10 = weight([3, 3, 64, 64], name=\"W10\")\r\n",
        "    b10 = bias([64], name=\"b10\")\r\n",
        "\r\n",
        "    c10 = tf.keras.activations.relu(conv2d(c9, W10) + b10)\r\n",
        "\r\n",
        "    W11 = weight([3, 3, 64, 64], name=\"W11\")\r\n",
        "    b11 = bias([64], name=\"b11\")\r\n",
        "\r\n",
        "    c11 = tf.keras.activations.relu(conv2d(c10, W11) + b11)\r\n",
        "\r\n",
        "    #Output layer\r\n",
        "\r\n",
        "    W12 = weight([9, 9, 64, 3], name=\"W12\") \r\n",
        "    b12 = bias([3], name=\"b12\");\r\n",
        "\r\n",
        "    enhanced = tf.keras.activations.tanh(conv2d(c11, W12) + b12) * 0.58 + 0.5\r\n",
        "\r\n",
        "  return enhanced\r\n",
        "\r\n",
        "#discriminator network\r\n",
        "def adverserialnetwork(image):\r\n",
        "  \r\n",
        "  with tf.compat.v1.variable_scope(\"discriminator\"):\r\n",
        "    \r\n",
        "    conv1 = convolutionallayer(image, 48, 11, 4, batch_nn = False)\r\n",
        "    conv2 = convolutionallayer(conv1, 128, 5, 2)\r\n",
        "    conv3 = convolutionallayer(conv2, 192, 3, 1)\r\n",
        "    conv4 = convolutionallayer(conv3, 192, 3, 1)\r\n",
        "    conv5 = convolutionallayer(conv4, 128, 3, 2)\r\n",
        "\r\n",
        "    flat_size = 128 * 7 * 7\r\n",
        "\r\n",
        "    #check this out\r\n",
        "    conv5_flat = tf.reshape(conv5, [-1, flat_size])\r\n",
        "\r\n",
        "    W_fc = tf.Variable(tf.compat.v1.truncated_normal([flat_size, 1024], stddev=0.01))\r\n",
        "    bias_fc = tf.Variable(tf.constant(0.01, shape=[1024]))\r\n",
        "\r\n",
        "    fc = leakyReLU(tf.matmul(conv5_flat, W_fc) + bias_fc)\r\n",
        "\r\n",
        "    W_out = tf.Variable(tf.compat.v1.truncated_normal([1024, 2], stddev=0.01))\r\n",
        "    bias_out = tf.Variable(tf.constant(0.01, shape=[2]))\r\n",
        "\r\n",
        "    #check out working of softmax with example. Find a reference and attach it here.\r\n",
        "    adv_out = tf.nn.softmax(tf.matmul(fc, W_out) + bias_out)\r\n",
        "    \r\n",
        "  return adv_out"
      ],
      "execution_count": null,
      "outputs": []
    },
    {
      "cell_type": "markdown",
      "metadata": {
        "id": "ejPsOQnQv4KI"
      },
      "source": [
        "# Losses"
      ]
    },
    {
      "cell_type": "code",
      "metadata": {
        "colab": {
          "base_uri": "https://localhost:8080/"
        },
        "id": "MDcE3-qcv8nb",
        "outputId": "44ad816a-6708-4c4e-da20-9cbf4ebce3e6"
      },
      "source": [
        "PATCH_HEIGHT = 100\r\n",
        "PATCH_WIDTH = 100\r\n",
        "PATCH_SIZE = PATCH_WIDTH * PATCH_HEIGHT * 3\r\n",
        "batch_size = 50\r\n",
        "\r\n",
        "with tf.Graph().as_default(), tf.compat.v1.Session() as sess:\r\n",
        "\r\n",
        "  phone_ = tf.compat.v1.placeholder(tf.float32, [None, PATCH_SIZE])\r\n",
        "  #reshaping the placeholder to match the shape of image\r\n",
        "  phone_image = tf.reshape(phone_, [-1, PATCH_HEIGHT, PATCH_WIDTH, 3])\r\n",
        "\r\n",
        "  dslr_ = tf.compat.v1.placeholder(tf.float32, [None, PATCH_SIZE])\r\n",
        "  #reshaping the placeholder to match the shape of image\r\n",
        "  dslr_image = tf.reshape(dslr_, [-1, PATCH_HEIGHT, PATCH_WIDTH, 3])\r\n",
        "\r\n",
        "  adv_ = tf.compat.v1.placeholder(tf.float32, [None, 1])\r\n",
        "\r\n",
        "  # get processed enhanced image from the model\r\n",
        "  enhanced = residualnetwork(phone_image)\r\n",
        "\r\n",
        "  # transform both dslr and enhanced images to grayscale\r\n",
        "  enhanced_gray = tf.reshape(tf.image.rgb_to_grayscale(enhanced), [-1, PATCH_WIDTH * PATCH_HEIGHT])\r\n",
        "  dslr_gray = tf.reshape(tf.image.rgb_to_grayscale(dslr_image),[-1, PATCH_WIDTH * PATCH_HEIGHT])\r\n",
        "\r\n",
        "  # push randomly the enhanced or dslr image to an adversarial CNN-discriminator\r\n",
        "  adversarial_ = tf.multiply(enhanced_gray, 1 - adv_) + tf.multiply(dslr_gray, adv_)\r\n",
        "  adversarial_image = tf.reshape(adversarial_, [-1, PATCH_HEIGHT, PATCH_WIDTH, 1])\r\n",
        "\r\n",
        "  discrim_predictions = adverserialnetwork(adversarial_image)\r\n",
        "\r\n",
        "#1)texture (adversarial) loss\r\n",
        "\r\n",
        "  #concatenates values of the two tensors\r\n",
        "  #https://www.tensorflow.org/api_docs/python/tf/concat\r\n",
        "  #here 1 denotes axis. 1 means x axis, 0 means y axis\r\n",
        "\r\n",
        "  discrim_target = tf.concat([adv_, 1 - adv_], 1)\r\n",
        "\r\n",
        "  #clip_by_value clips tensor values to a specified min and max\r\n",
        "  #SYNTAX -> tf.clip_by_value(t, clip_value_min, clip_value_max, name=None)\r\n",
        "\r\n",
        "  loss_discrim = -tf.reduce_sum(discrim_target * tf.math.log(tf.clip_by_value(discrim_predictions, 1e-10, 1.0)))\r\n",
        "  loss_texture = -loss_discrim\r\n",
        "\r\n",
        "  correct_predictions = tf.equal(tf.argmax(discrim_predictions, 1), tf.argmax(discrim_target, 1))\r\n",
        "  #check this out\r\n",
        "  discim_accuracy = tf.reduce_mean(tf.cast(correct_predictions, tf.float32))\r\n",
        "\r\n",
        "  print(discim_accuracy)"
      ],
      "execution_count": null,
      "outputs": [
        {
          "output_type": "stream",
          "text": [
            "Tensor(\"Placeholder:0\", shape=(None, 30000), dtype=float32)\n",
            "Tensor(\"Mean:0\", shape=(), dtype=float32)\n"
          ],
          "name": "stdout"
        }
      ]
    },
    {
      "cell_type": "markdown",
      "metadata": {
        "id": "RZzQcrZpgpPj"
      },
      "source": [
        "# Testing area"
      ]
    },
    {
      "cell_type": "code",
      "metadata": {
        "id": "AcEC0b01twM8",
        "colab": {
          "base_uri": "https://localhost:8080/"
        },
        "outputId": "4e3379ac-1cfe-4a1d-ccf7-35da8d8e8952"
      },
      "source": [
        "#this block is for testing\r\n",
        "\r\n",
        "f = open(\"drive/MyDrive/Innovation Practices Lab/test.txt\", \"r\");\r\n",
        "print(f.read())"
      ],
      "execution_count": null,
      "outputs": [
        {
          "output_type": "stream",
          "text": [
            "This is a test file to check whether the file path is working.\n"
          ],
          "name": "stdout"
        }
      ]
    },
    {
      "cell_type": "code",
      "metadata": {
        "id": "69TnWL8ie7wr",
        "colab": {
          "base_uri": "https://localhost:8080/"
        },
        "outputId": "e9e9782f-6e38-44db-b029-c74e7b9f0f12"
      },
      "source": [
        "x1 = tf.constant([[2, 2],[3,3]])\r\n",
        "x = tf.constant([[2, 2, 1, 1], [1, 1, 2, 2]])\r\n",
        "\r\n",
        "print((tf.concat([x1, 1-x1], 1)) * tf.clip_by_value(x, 0, 3))\r\n",
        "print(tf.reduce_sum((tf.concat([x1, 1-x1], 1) * tf.clip_by_value(x, 0, 3))))"
      ],
      "execution_count": null,
      "outputs": [
        {
          "output_type": "stream",
          "text": [
            "tf.Tensor(\n",
            "[[ 4  4 -1 -1]\n",
            " [ 3  3 -4 -4]], shape=(2, 4), dtype=int32)\n",
            "tf.Tensor(4, shape=(), dtype=int32)\n"
          ],
          "name": "stdout"
        }
      ]
    },
    {
      "cell_type": "code",
      "metadata": {
        "id": "M3S8a5x99BpR",
        "colab": {
          "base_uri": "https://localhost:8080/",
          "height": 1000
        },
        "outputId": "0ab3ee9a-6380-4b42-8818-9f9a79b99a52"
      },
      "source": [
        "import requests\r\n",
        "import matplotlib.pyplot as plt\r\n",
        "import matplotlib.image as mpimg\r\n",
        "\r\n",
        "img = mpimg.imread(\"./1.jpg\", 0)\r\n",
        "plt.imshow(img)\r\n",
        "\r\n",
        "phone_image = tf.reshape(img, [-1, PATCH_HEIGHT, PATCH_WIDTH, 3])\r\n",
        "print(phone_image.get_shape())\r\n",
        "print(phone_image)"
      ],
      "execution_count": null,
      "outputs": [
        {
          "output_type": "stream",
          "text": [
            "(1, 100, 100, 3)\n",
            "tf.Tensor(\n",
            "[[[[151 184 193]\n",
            "   [148 181 190]\n",
            "   [149 179 189]\n",
            "   ...\n",
            "   [153 183 191]\n",
            "   [149 179 187]\n",
            "   [146 176 184]]\n",
            "\n",
            "  [[150 183 192]\n",
            "   [147 180 189]\n",
            "   [148 178 188]\n",
            "   ...\n",
            "   [152 182 190]\n",
            "   [148 178 186]\n",
            "   [149 179 187]]\n",
            "\n",
            "  [[152 185 194]\n",
            "   [147 180 189]\n",
            "   [146 176 186]\n",
            "   ...\n",
            "   [155 185 193]\n",
            "   [152 182 190]\n",
            "   [150 180 188]]\n",
            "\n",
            "  ...\n",
            "\n",
            "  [[ 13  22  21]\n",
            "   [ 13  22  21]\n",
            "   [ 12  21  20]\n",
            "   ...\n",
            "   [  9  19  20]\n",
            "   [  8  18  19]\n",
            "   [  9  19  20]]\n",
            "\n",
            "  [[ 14  23  22]\n",
            "   [ 11  20  19]\n",
            "   [ 11  20  19]\n",
            "   ...\n",
            "   [ 10  20  19]\n",
            "   [  9  19  18]\n",
            "   [ 10  20  19]]\n",
            "\n",
            "  [[ 13  22  21]\n",
            "   [ 12  21  20]\n",
            "   [ 12  21  20]\n",
            "   ...\n",
            "   [ 10  20  19]\n",
            "   [  8  18  17]\n",
            "   [  7  17  16]]]], shape=(1, 100, 100, 3), dtype=uint8)\n"
          ],
          "name": "stdout"
        },
        {
          "output_type": "display_data",
          "data": {
            "image/png": "[encoded data removed]",
            "text/plain": [
              "<Figure size 432x288 with 1 Axes>"
            ]
          },
          "metadata": {
            "tags": [],
            "needs_background": "light"
          }
        }
      ]
    },
    {
      "cell_type": "code",
      "metadata": {
        "id": "8deJvGXSa15n"
      },
      "source": [
        ""
      ],
      "execution_count": null,
      "outputs": []
    }
  ]
}